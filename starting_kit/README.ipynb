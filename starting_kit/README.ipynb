{
 "cells": [
  {
   "cell_type": "markdown",
   "metadata": {},
   "source": [
    "<div style=\"background:#FFFFAA\">\n",
    "<img src=\"logo.jpg\", width=150, ALIGN=\"left\", border=20>\n",
    "<center>\n",
    "<h1>Sample Starting Kit </h1>\n",
    " <br>This code was tested with <br>\n",
    "Python 3.6.6 |Anaconda custom (64-bit)| (default, Jun 28 2018, 11:07:29) (https://anaconda.org/)<br>\n",
    "<i> Adapted for Chalab by Isabelle Guyon from original code of Balázs Kégl</i> <br>\n",
    "<a href=\"http://www.datascience-paris-saclay.fr\">Paris Saclay Center for Data Science (CDS)</a>\n",
    "</center>\n",
    "<br>\n",
    "<br>\n",
    "<br>\n",
    "<p>\n",
    "ALL INFORMATION, SOFTWARE, DOCUMENTATION, AND DATA ARE PROVIDED \"AS-IS\". The CDS, CHALEARN, AND/OR OTHER ORGANIZERS OR CODE AUTHORS DISCLAIM ANY EXPRESSED OR IMPLIED WARRANTIES, INCLUDING, BUT NOT LIMITED TO, THE IMPLIED WARRANTIES OF MERCHANTABILITY AND FITNESS FOR ANY PARTICULAR PURPOSE, AND THE WARRANTY OF NON-INFRIGEMENT OF ANY THIRD PARTY'S INTELLECTUAL PROPERTY RIGHTS. IN NO EVENT SHALL AUTHORS AND ORGANIZERS BE LIABLE FOR ANY SPECIAL, \n",
    "INDIRECT OR CONSEQUENTIAL DAMAGES OR ANY DAMAGES WHATSOEVER ARISING OUT OF OR IN CONNECTION WITH THE USE OR PERFORMANCE OF SOFTWARE, DOCUMENTS, MATERIALS, PUBLICATIONS, OR INFORMATION MADE AVAILABLE FOR THE CHALLENGE. \n",
    "</div>"
   ]
  },
  {
   "cell_type": "markdown",
   "metadata": {},
   "source": [
    "<div style=\"background:#FFFFAA\">\n",
    "    <h2>Introduction </h2>\n",
    "    <p>\n",
    "In an era where computer graphics techniques for image generation are reaching stunning levels of quality, it becomes more and more challenging to detect fake from true, authentic images. However, this raises a lot of legal issues, mainly dealing with forgery. This project focuses mainly on the efficiency of Generative Adversarial Network (GAN) algorithms for producing art forgery and we will try to beat the state-of-the-art models that detect it. In fact, the Fine Arts Expert Institute in Geneva estimates that as much as 50 percent of artworks currently in circulation may be forgeries. Although the standard approach for image classification which is deep neural networks and especially Convolutional Neural Networks (CNNs) works very well nowadays, GAN performs strongly on generating fake images. By focusing on the art forgery aspect, we will try to bring a more specific perspective on the issue of image forgery.\n",
    "\n",
    "</div>"
   ]
  },
  {
   "cell_type": "markdown",
   "metadata": {},
   "source": [
    "### Requirements\n",
    "Our code uses multiple libraries, so the next cell will install python's required dependencies. In case you don't want to, or are running in the competition's docker, you can comment it."
   ]
  },
  {
   "cell_type": "code",
   "execution_count": null,
   "metadata": {},
   "outputs": [],
   "source": [
    "#!pip install --user -r requirements.txt"
   ]
  },
  {
   "cell_type": "code",
   "execution_count": 1,
   "metadata": {},
   "outputs": [
    {
     "name": "stdout",
     "output_type": "stream",
     "text": [
      "The autoreload extension is already loaded. To reload it, use:\n",
      "  %reload_ext autoreload\n"
     ]
    }
   ],
   "source": [
    "%reload_ext autoreload\n",
    "model_dir = 'sample_code_submission/'                        # Change the model to a better one once you have one!\n",
    "result_dir = 'sample_result_submission/' \n",
    "problem_dir = 'ingestion_program/'  \n",
    "score_dir = 'scoring_program/'\n",
    "from sys import path; path.append(model_dir); path.append(problem_dir); path.append(score_dir); \n",
    "%matplotlib inline\n",
    "%load_ext autoreload\n",
    "%autoreload 2\n",
    "import seaborn as sns; sns.set()\n",
    "import warnings\n",
    "import os\n",
    "warnings.simplefilter(action='ignore', category=FutureWarning)"
   ]
  },
  {
   "cell_type": "markdown",
   "metadata": {},
   "source": [
    "<div style=\"background:#FFFFAA\">\n",
    "    <h1> Step 1: Exploratory data analysis </h1>\n",
    "<p>\n",
    "We provide sample_data with the starting kit, but to prepare your submission, you must fetch the public_data from the challenge website and point to it.\n",
    "    <br>\n",
    "    <span style=\"color:red\"> Just change the data name in the block below. In the rest of the section, replace the sample plots by anything you want. </span>\n",
    "</div>"
   ]
  },
  {
   "cell_type": "code",
   "execution_count": 2,
   "metadata": {},
   "outputs": [
    {
     "name": "stdout",
     "output_type": "stream",
     "text": [
      "input_data\t   perso_test.data\t perso_valid.data\r\n",
      "perso_feat.name    perso_test.solution\t perso_valid.solution\r\n",
      "perso_label.name   perso_train.data\t ref_data_test\r\n",
      "perso_public.info  perso_train.solution  ref_data_val\r\n"
     ]
    }
   ],
   "source": [
    "data_dir = 'sample_data'         \n",
    "data_name = 'perso'\n",
    "!ls $data_dir"
   ]
  },
  {
   "cell_type": "code",
   "execution_count": 3,
   "metadata": {
    "scrolled": true
   },
   "outputs": [
    {
     "name": "stdout",
     "output_type": "stream",
     "text": [
      "Reading sample_data/perso_train from AutoML format\n",
      "Number of examples = 70\n",
      "Number of features = 200\n",
      "   Class\n",
      "0  False\n",
      "1   True\n",
      "Number of classes = 2\n"
     ]
    }
   ],
   "source": [
    "from data_io import read_as_df\n",
    "data = read_as_df(data_dir  + '/' + data_name)          # The perso_data is loaded as a Pandas Data Frame"
   ]
  },
  {
   "cell_type": "code",
   "execution_count": 4,
   "metadata": {
    "scrolled": true
   },
   "outputs": [
    {
     "data": {
      "text/html": [
       "<div>\n",
       "<style scoped>\n",
       "    .dataframe tbody tr th:only-of-type {\n",
       "        vertical-align: middle;\n",
       "    }\n",
       "\n",
       "    .dataframe tbody tr th {\n",
       "        vertical-align: top;\n",
       "    }\n",
       "\n",
       "    .dataframe thead th {\n",
       "        text-align: right;\n",
       "    }\n",
       "</style>\n",
       "<table border=\"1\" class=\"dataframe\">\n",
       "  <thead>\n",
       "    <tr style=\"text-align: right;\">\n",
       "      <th></th>\n",
       "      <th>feature0</th>\n",
       "      <th>feature1</th>\n",
       "      <th>feature2</th>\n",
       "      <th>feature3</th>\n",
       "      <th>feature4</th>\n",
       "      <th>feature5</th>\n",
       "      <th>feature6</th>\n",
       "      <th>feature7</th>\n",
       "      <th>feature8</th>\n",
       "      <th>feature9</th>\n",
       "      <th>...</th>\n",
       "      <th>feature191</th>\n",
       "      <th>feature192</th>\n",
       "      <th>feature193</th>\n",
       "      <th>feature194</th>\n",
       "      <th>feature195</th>\n",
       "      <th>feature196</th>\n",
       "      <th>feature197</th>\n",
       "      <th>feature198</th>\n",
       "      <th>feature199</th>\n",
       "      <th>target</th>\n",
       "    </tr>\n",
       "  </thead>\n",
       "  <tbody>\n",
       "    <tr>\n",
       "      <th>0</th>\n",
       "      <td>-115.661139</td>\n",
       "      <td>1216.202299</td>\n",
       "      <td>-773.062562</td>\n",
       "      <td>855.620131</td>\n",
       "      <td>2910.311554</td>\n",
       "      <td>466.727615</td>\n",
       "      <td>114.508277</td>\n",
       "      <td>1358.164756</td>\n",
       "      <td>1904.974955</td>\n",
       "      <td>368.603496</td>\n",
       "      <td>...</td>\n",
       "      <td>221.599102</td>\n",
       "      <td>218.711808</td>\n",
       "      <td>-94.821094</td>\n",
       "      <td>-25.762593</td>\n",
       "      <td>-145.717495</td>\n",
       "      <td>26.968315</td>\n",
       "      <td>-177.822963</td>\n",
       "      <td>228.935103</td>\n",
       "      <td>-52.905581</td>\n",
       "      <td>False</td>\n",
       "    </tr>\n",
       "    <tr>\n",
       "      <th>1</th>\n",
       "      <td>-5583.099426</td>\n",
       "      <td>-697.991356</td>\n",
       "      <td>-663.352215</td>\n",
       "      <td>165.247689</td>\n",
       "      <td>113.186517</td>\n",
       "      <td>-2959.035928</td>\n",
       "      <td>-1760.779944</td>\n",
       "      <td>959.580925</td>\n",
       "      <td>629.288225</td>\n",
       "      <td>-328.528193</td>\n",
       "      <td>...</td>\n",
       "      <td>64.845348</td>\n",
       "      <td>-201.713739</td>\n",
       "      <td>-299.773336</td>\n",
       "      <td>157.883046</td>\n",
       "      <td>-142.226314</td>\n",
       "      <td>-260.514542</td>\n",
       "      <td>-43.695310</td>\n",
       "      <td>45.672243</td>\n",
       "      <td>-313.943117</td>\n",
       "      <td>True</td>\n",
       "    </tr>\n",
       "    <tr>\n",
       "      <th>2</th>\n",
       "      <td>1835.466301</td>\n",
       "      <td>-907.478614</td>\n",
       "      <td>1811.866686</td>\n",
       "      <td>-1128.154933</td>\n",
       "      <td>663.075871</td>\n",
       "      <td>-3864.696016</td>\n",
       "      <td>593.671550</td>\n",
       "      <td>-575.408168</td>\n",
       "      <td>-110.593180</td>\n",
       "      <td>-3139.474407</td>\n",
       "      <td>...</td>\n",
       "      <td>-178.586895</td>\n",
       "      <td>-12.290533</td>\n",
       "      <td>-33.610741</td>\n",
       "      <td>148.895019</td>\n",
       "      <td>-234.188335</td>\n",
       "      <td>-142.366978</td>\n",
       "      <td>-6.569040</td>\n",
       "      <td>39.144912</td>\n",
       "      <td>47.997177</td>\n",
       "      <td>True</td>\n",
       "    </tr>\n",
       "    <tr>\n",
       "      <th>3</th>\n",
       "      <td>6300.152765</td>\n",
       "      <td>669.272537</td>\n",
       "      <td>-1159.307318</td>\n",
       "      <td>-1214.940670</td>\n",
       "      <td>-606.140572</td>\n",
       "      <td>-178.256008</td>\n",
       "      <td>-355.604973</td>\n",
       "      <td>-37.693839</td>\n",
       "      <td>93.154693</td>\n",
       "      <td>-13.586740</td>\n",
       "      <td>...</td>\n",
       "      <td>71.624823</td>\n",
       "      <td>-48.640079</td>\n",
       "      <td>73.264534</td>\n",
       "      <td>-108.369831</td>\n",
       "      <td>33.174347</td>\n",
       "      <td>-48.985179</td>\n",
       "      <td>21.295550</td>\n",
       "      <td>-5.207152</td>\n",
       "      <td>-24.231535</td>\n",
       "      <td>False</td>\n",
       "    </tr>\n",
       "    <tr>\n",
       "      <th>4</th>\n",
       "      <td>4577.101494</td>\n",
       "      <td>573.186182</td>\n",
       "      <td>6113.929372</td>\n",
       "      <td>-658.891766</td>\n",
       "      <td>-42.161840</td>\n",
       "      <td>-943.162682</td>\n",
       "      <td>-1674.720268</td>\n",
       "      <td>-809.281637</td>\n",
       "      <td>-204.842754</td>\n",
       "      <td>-938.428016</td>\n",
       "      <td>...</td>\n",
       "      <td>340.568309</td>\n",
       "      <td>24.058724</td>\n",
       "      <td>54.392966</td>\n",
       "      <td>-15.845163</td>\n",
       "      <td>272.836307</td>\n",
       "      <td>7.312660</td>\n",
       "      <td>191.043990</td>\n",
       "      <td>4.571789</td>\n",
       "      <td>233.769573</td>\n",
       "      <td>False</td>\n",
       "    </tr>\n",
       "  </tbody>\n",
       "</table>\n",
       "<p>5 rows × 201 columns</p>\n",
       "</div>"
      ],
      "text/plain": [
       "      feature0     feature1     feature2     feature3     feature4  \\\n",
       "0  -115.661139  1216.202299  -773.062562   855.620131  2910.311554   \n",
       "1 -5583.099426  -697.991356  -663.352215   165.247689   113.186517   \n",
       "2  1835.466301  -907.478614  1811.866686 -1128.154933   663.075871   \n",
       "3  6300.152765   669.272537 -1159.307318 -1214.940670  -606.140572   \n",
       "4  4577.101494   573.186182  6113.929372  -658.891766   -42.161840   \n",
       "\n",
       "      feature5     feature6     feature7     feature8     feature9   ...    \\\n",
       "0   466.727615   114.508277  1358.164756  1904.974955   368.603496   ...     \n",
       "1 -2959.035928 -1760.779944   959.580925   629.288225  -328.528193   ...     \n",
       "2 -3864.696016   593.671550  -575.408168  -110.593180 -3139.474407   ...     \n",
       "3  -178.256008  -355.604973   -37.693839    93.154693   -13.586740   ...     \n",
       "4  -943.162682 -1674.720268  -809.281637  -204.842754  -938.428016   ...     \n",
       "\n",
       "   feature191  feature192  feature193  feature194  feature195  feature196  \\\n",
       "0  221.599102  218.711808  -94.821094  -25.762593 -145.717495   26.968315   \n",
       "1   64.845348 -201.713739 -299.773336  157.883046 -142.226314 -260.514542   \n",
       "2 -178.586895  -12.290533  -33.610741  148.895019 -234.188335 -142.366978   \n",
       "3   71.624823  -48.640079   73.264534 -108.369831   33.174347  -48.985179   \n",
       "4  340.568309   24.058724   54.392966  -15.845163  272.836307    7.312660   \n",
       "\n",
       "   feature197  feature198  feature199  target  \n",
       "0 -177.822963  228.935103  -52.905581   False  \n",
       "1  -43.695310   45.672243 -313.943117    True  \n",
       "2   -6.569040   39.144912   47.997177    True  \n",
       "3   21.295550   -5.207152  -24.231535   False  \n",
       "4  191.043990    4.571789  233.769573   False  \n",
       "\n",
       "[5 rows x 201 columns]"
      ]
     },
     "execution_count": 4,
     "metadata": {},
     "output_type": "execute_result"
    }
   ],
   "source": [
    "data.head()"
   ]
  },
  {
   "cell_type": "markdown",
   "metadata": {},
   "source": [
    "For convenience, we load the data as a \"pandas\" data frame, so we can use \"pandas\" and \"seaborn\" built in functions to explore the data."
   ]
  },
  {
   "cell_type": "code",
   "execution_count": 5,
   "metadata": {
    "scrolled": false
   },
   "outputs": [
    {
     "data": {
      "text/html": [
       "<div>\n",
       "<style scoped>\n",
       "    .dataframe tbody tr th:only-of-type {\n",
       "        vertical-align: middle;\n",
       "    }\n",
       "\n",
       "    .dataframe tbody tr th {\n",
       "        vertical-align: top;\n",
       "    }\n",
       "\n",
       "    .dataframe thead th {\n",
       "        text-align: right;\n",
       "    }\n",
       "</style>\n",
       "<table border=\"1\" class=\"dataframe\">\n",
       "  <thead>\n",
       "    <tr style=\"text-align: right;\">\n",
       "      <th></th>\n",
       "      <th>feature0</th>\n",
       "      <th>feature1</th>\n",
       "      <th>feature2</th>\n",
       "      <th>feature3</th>\n",
       "      <th>feature4</th>\n",
       "      <th>feature5</th>\n",
       "      <th>feature6</th>\n",
       "      <th>feature7</th>\n",
       "      <th>feature8</th>\n",
       "      <th>feature9</th>\n",
       "      <th>...</th>\n",
       "      <th>feature190</th>\n",
       "      <th>feature191</th>\n",
       "      <th>feature192</th>\n",
       "      <th>feature193</th>\n",
       "      <th>feature194</th>\n",
       "      <th>feature195</th>\n",
       "      <th>feature196</th>\n",
       "      <th>feature197</th>\n",
       "      <th>feature198</th>\n",
       "      <th>feature199</th>\n",
       "    </tr>\n",
       "  </thead>\n",
       "  <tbody>\n",
       "    <tr>\n",
       "      <th>count</th>\n",
       "      <td>70.000000</td>\n",
       "      <td>70.000000</td>\n",
       "      <td>70.000000</td>\n",
       "      <td>70.000000</td>\n",
       "      <td>70.000000</td>\n",
       "      <td>70.000000</td>\n",
       "      <td>70.000000</td>\n",
       "      <td>70.000000</td>\n",
       "      <td>70.000000</td>\n",
       "      <td>70.000000</td>\n",
       "      <td>...</td>\n",
       "      <td>70.000000</td>\n",
       "      <td>70.000000</td>\n",
       "      <td>70.000000</td>\n",
       "      <td>70.000000</td>\n",
       "      <td>70.000000</td>\n",
       "      <td>70.000000</td>\n",
       "      <td>70.000000</td>\n",
       "      <td>70.000000</td>\n",
       "      <td>70.000000</td>\n",
       "      <td>70.000000</td>\n",
       "    </tr>\n",
       "    <tr>\n",
       "      <th>mean</th>\n",
       "      <td>-688.084437</td>\n",
       "      <td>1.439239</td>\n",
       "      <td>150.467941</td>\n",
       "      <td>120.090736</td>\n",
       "      <td>85.408496</td>\n",
       "      <td>-7.112043</td>\n",
       "      <td>88.299789</td>\n",
       "      <td>65.041557</td>\n",
       "      <td>164.937305</td>\n",
       "      <td>-205.191857</td>\n",
       "      <td>...</td>\n",
       "      <td>17.917809</td>\n",
       "      <td>22.172575</td>\n",
       "      <td>-1.854230</td>\n",
       "      <td>-9.131487</td>\n",
       "      <td>12.498727</td>\n",
       "      <td>-12.807037</td>\n",
       "      <td>-15.269753</td>\n",
       "      <td>-2.621724</td>\n",
       "      <td>1.750309</td>\n",
       "      <td>-24.070748</td>\n",
       "    </tr>\n",
       "    <tr>\n",
       "      <th>std</th>\n",
       "      <td>4525.910285</td>\n",
       "      <td>2117.930358</td>\n",
       "      <td>1843.323677</td>\n",
       "      <td>1132.245125</td>\n",
       "      <td>1391.061487</td>\n",
       "      <td>1126.497764</td>\n",
       "      <td>978.408544</td>\n",
       "      <td>957.031672</td>\n",
       "      <td>1020.870033</td>\n",
       "      <td>822.129819</td>\n",
       "      <td>...</td>\n",
       "      <td>136.633133</td>\n",
       "      <td>114.667621</td>\n",
       "      <td>106.132713</td>\n",
       "      <td>129.004698</td>\n",
       "      <td>105.746713</td>\n",
       "      <td>131.662040</td>\n",
       "      <td>108.241851</td>\n",
       "      <td>114.474774</td>\n",
       "      <td>115.310989</td>\n",
       "      <td>117.645776</td>\n",
       "    </tr>\n",
       "    <tr>\n",
       "      <th>min</th>\n",
       "      <td>-10319.857959</td>\n",
       "      <td>-5673.907138</td>\n",
       "      <td>-3107.572285</td>\n",
       "      <td>-3087.024245</td>\n",
       "      <td>-3100.512915</td>\n",
       "      <td>-3864.696016</td>\n",
       "      <td>-1760.779944</td>\n",
       "      <td>-2869.480845</td>\n",
       "      <td>-2693.785251</td>\n",
       "      <td>-3139.474407</td>\n",
       "      <td>...</td>\n",
       "      <td>-348.334257</td>\n",
       "      <td>-224.658309</td>\n",
       "      <td>-363.266306</td>\n",
       "      <td>-299.773336</td>\n",
       "      <td>-224.142148</td>\n",
       "      <td>-448.001200</td>\n",
       "      <td>-268.390439</td>\n",
       "      <td>-233.885179</td>\n",
       "      <td>-274.949776</td>\n",
       "      <td>-326.469421</td>\n",
       "    </tr>\n",
       "    <tr>\n",
       "      <th>25%</th>\n",
       "      <td>-3627.069116</td>\n",
       "      <td>-1054.690530</td>\n",
       "      <td>-898.173027</td>\n",
       "      <td>-639.799689</td>\n",
       "      <td>-583.399925</td>\n",
       "      <td>-664.855201</td>\n",
       "      <td>-492.327362</td>\n",
       "      <td>-467.179583</td>\n",
       "      <td>-384.057412</td>\n",
       "      <td>-580.377741</td>\n",
       "      <td>...</td>\n",
       "      <td>-49.139233</td>\n",
       "      <td>-40.141411</td>\n",
       "      <td>-53.408294</td>\n",
       "      <td>-82.056176</td>\n",
       "      <td>-55.900449</td>\n",
       "      <td>-64.944671</td>\n",
       "      <td>-72.945478</td>\n",
       "      <td>-74.951881</td>\n",
       "      <td>-60.400006</td>\n",
       "      <td>-85.212208</td>\n",
       "    </tr>\n",
       "    <tr>\n",
       "      <th>50%</th>\n",
       "      <td>-540.883169</td>\n",
       "      <td>58.924640</td>\n",
       "      <td>-31.227468</td>\n",
       "      <td>91.908255</td>\n",
       "      <td>-18.976676</td>\n",
       "      <td>18.408747</td>\n",
       "      <td>-79.488990</td>\n",
       "      <td>72.621754</td>\n",
       "      <td>-5.250182</td>\n",
       "      <td>-218.151252</td>\n",
       "      <td>...</td>\n",
       "      <td>22.263582</td>\n",
       "      <td>18.748304</td>\n",
       "      <td>-6.766787</td>\n",
       "      <td>-24.580495</td>\n",
       "      <td>-12.197324</td>\n",
       "      <td>-3.480078</td>\n",
       "      <td>9.685868</td>\n",
       "      <td>1.302436</td>\n",
       "      <td>4.922651</td>\n",
       "      <td>-26.594467</td>\n",
       "    </tr>\n",
       "    <tr>\n",
       "      <th>75%</th>\n",
       "      <td>2497.491350</td>\n",
       "      <td>1403.618076</td>\n",
       "      <td>1064.998627</td>\n",
       "      <td>862.852328</td>\n",
       "      <td>657.437655</td>\n",
       "      <td>664.639177</td>\n",
       "      <td>471.024239</td>\n",
       "      <td>732.617181</td>\n",
       "      <td>617.604437</td>\n",
       "      <td>106.156853</td>\n",
       "      <td>...</td>\n",
       "      <td>94.219217</td>\n",
       "      <td>81.892023</td>\n",
       "      <td>41.767179</td>\n",
       "      <td>68.229214</td>\n",
       "      <td>79.188675</td>\n",
       "      <td>43.028150</td>\n",
       "      <td>49.309380</td>\n",
       "      <td>82.882157</td>\n",
       "      <td>55.019079</td>\n",
       "      <td>39.756464</td>\n",
       "    </tr>\n",
       "    <tr>\n",
       "      <th>max</th>\n",
       "      <td>8030.344818</td>\n",
       "      <td>5327.592271</td>\n",
       "      <td>6200.597003</td>\n",
       "      <td>3065.564684</td>\n",
       "      <td>3356.552603</td>\n",
       "      <td>3199.357684</td>\n",
       "      <td>2927.826153</td>\n",
       "      <td>2479.374639</td>\n",
       "      <td>2973.146660</td>\n",
       "      <td>2806.897169</td>\n",
       "      <td>...</td>\n",
       "      <td>323.285742</td>\n",
       "      <td>354.325143</td>\n",
       "      <td>236.805860</td>\n",
       "      <td>369.934190</td>\n",
       "      <td>340.342201</td>\n",
       "      <td>368.289059</td>\n",
       "      <td>219.848048</td>\n",
       "      <td>240.203355</td>\n",
       "      <td>348.438526</td>\n",
       "      <td>238.089997</td>\n",
       "    </tr>\n",
       "  </tbody>\n",
       "</table>\n",
       "<p>8 rows × 200 columns</p>\n",
       "</div>"
      ],
      "text/plain": [
       "           feature0     feature1     feature2     feature3     feature4  \\\n",
       "count     70.000000    70.000000    70.000000    70.000000    70.000000   \n",
       "mean    -688.084437     1.439239   150.467941   120.090736    85.408496   \n",
       "std     4525.910285  2117.930358  1843.323677  1132.245125  1391.061487   \n",
       "min   -10319.857959 -5673.907138 -3107.572285 -3087.024245 -3100.512915   \n",
       "25%    -3627.069116 -1054.690530  -898.173027  -639.799689  -583.399925   \n",
       "50%     -540.883169    58.924640   -31.227468    91.908255   -18.976676   \n",
       "75%     2497.491350  1403.618076  1064.998627   862.852328   657.437655   \n",
       "max     8030.344818  5327.592271  6200.597003  3065.564684  3356.552603   \n",
       "\n",
       "          feature5     feature6     feature7     feature8     feature9  \\\n",
       "count    70.000000    70.000000    70.000000    70.000000    70.000000   \n",
       "mean     -7.112043    88.299789    65.041557   164.937305  -205.191857   \n",
       "std    1126.497764   978.408544   957.031672  1020.870033   822.129819   \n",
       "min   -3864.696016 -1760.779944 -2869.480845 -2693.785251 -3139.474407   \n",
       "25%    -664.855201  -492.327362  -467.179583  -384.057412  -580.377741   \n",
       "50%      18.408747   -79.488990    72.621754    -5.250182  -218.151252   \n",
       "75%     664.639177   471.024239   732.617181   617.604437   106.156853   \n",
       "max    3199.357684  2927.826153  2479.374639  2973.146660  2806.897169   \n",
       "\n",
       "          ...      feature190  feature191  feature192  feature193  feature194  \\\n",
       "count     ...       70.000000   70.000000   70.000000   70.000000   70.000000   \n",
       "mean      ...       17.917809   22.172575   -1.854230   -9.131487   12.498727   \n",
       "std       ...      136.633133  114.667621  106.132713  129.004698  105.746713   \n",
       "min       ...     -348.334257 -224.658309 -363.266306 -299.773336 -224.142148   \n",
       "25%       ...      -49.139233  -40.141411  -53.408294  -82.056176  -55.900449   \n",
       "50%       ...       22.263582   18.748304   -6.766787  -24.580495  -12.197324   \n",
       "75%       ...       94.219217   81.892023   41.767179   68.229214   79.188675   \n",
       "max       ...      323.285742  354.325143  236.805860  369.934190  340.342201   \n",
       "\n",
       "       feature195  feature196  feature197  feature198  feature199  \n",
       "count   70.000000   70.000000   70.000000   70.000000   70.000000  \n",
       "mean   -12.807037  -15.269753   -2.621724    1.750309  -24.070748  \n",
       "std    131.662040  108.241851  114.474774  115.310989  117.645776  \n",
       "min   -448.001200 -268.390439 -233.885179 -274.949776 -326.469421  \n",
       "25%    -64.944671  -72.945478  -74.951881  -60.400006  -85.212208  \n",
       "50%     -3.480078    9.685868    1.302436    4.922651  -26.594467  \n",
       "75%     43.028150   49.309380   82.882157   55.019079   39.756464  \n",
       "max    368.289059  219.848048  240.203355  348.438526  238.089997  \n",
       "\n",
       "[8 rows x 200 columns]"
      ]
     },
     "execution_count": 5,
     "metadata": {},
     "output_type": "execute_result"
    }
   ],
   "source": [
    "data.describe() "
   ]
  },
  {
   "cell_type": "markdown",
   "metadata": {},
   "source": [
    "<div style=\"background:#FFFFAA\">\n",
    "<h1>Step 2: Building a predictive model</h1>\n",
    "</div>"
   ]
  },
  {
   "cell_type": "markdown",
   "metadata": {},
   "source": [
    "<div style=\"background:#FFFFAA\">\n",
    "    <h2>Loading data with DataManager</h2>\n",
    "    <p>\n",
    "We reload the data with the AutoML DataManager class because this is more convenient:\n",
    "  \n",
    "</div>"
   ]
  },
  {
   "cell_type": "code",
   "execution_count": 6,
   "metadata": {},
   "outputs": [
    {
     "name": "stdout",
     "output_type": "stream",
     "text": [
      "Info file found : /home/min/Téléchargements/challenge1/sample_data/perso_public.info\n",
      "DataManager : perso\n",
      "info:\n",
      "\tusage = Sample dataset perso data\n",
      "\tname = perso\n",
      "\ttask = bi-class.classification\n",
      "\ttarget_type = Numerical\n",
      "\tfeat_type = Numerical\n",
      "\tmetric = bac_metric\n",
      "\ttime_budget = 1200\n",
      "\tfeat_num = 200\n",
      "\ttarget_num = 2\n",
      "\tlabel_num = 2\n",
      "\ttrain_num = 50000\n",
      "\tvalid_num = 9408\n",
      "\ttest_num = 18817\n",
      "\thas_categorical = 0\n",
      "\thas_missing = 0\n",
      "\tis_sparse = 0\n",
      "\tformat = dense\n",
      "data:\n",
      "\tX_train = array(70, 200)\n",
      "\tY_train = array(70,)\n",
      "\tX_valid = array(10, 200)\n",
      "\tY_valid = array(10,)\n",
      "\tX_test = array(20, 200)\n",
      "\tY_test = array(20,)\n",
      "feat_type:\tarray(200,)\n",
      "feat_idx:\tarray(0,)\n",
      "\n",
      "perso\n"
     ]
    }
   ],
   "source": [
    "from data_manager import DataManager\n",
    "D = DataManager(data_name, data_dir, replace_missing=True)\n",
    "print(D)\n",
    "print(data_name)"
   ]
  },
  {
   "cell_type": "markdown",
   "metadata": {},
   "source": [
    "<div style=\"background:#FFFFAA\">\n",
    "    <h2>Training a predictive model</h2>\n",
    "    <p>\n",
    "We provide an example of predictive model (for classification or regression) in the `sample_code_submission/` directory. It is a quite stupid model: it makes constant predictions. Replace it with your own model.\n",
    "    </div>"
   ]
  },
  {
   "cell_type": "code",
   "execution_count": 8,
   "metadata": {},
   "outputs": [],
   "source": [
    "from numpy.core.umath_tests import inner1d\n",
    "from data_io import write\n",
    "from model import model"
   ]
  },
  {
   "cell_type": "markdown",
   "metadata": {},
   "source": [
    "<div style=\"background:#FFFFAA\">\n",
    "an instance of the model (run the constructor) and attempt to reload a previously saved version from `sample_code_submission/`:\n",
    "    \n",
    "</div>"
   ]
  },
  {
   "cell_type": "code",
   "execution_count": 9,
   "metadata": {},
   "outputs": [
    {
     "name": "stdout",
     "output_type": "stream",
     "text": [
      "perso\n",
      "sample_code_submission/\n",
      "sample_code_submission/perso\n"
     ]
    }
   ],
   "source": [
    "M = model()\n",
    "trained_model_name = model_dir + data_name\n",
    "print(data_name)\n",
    "print(model_dir)\n",
    "print(trained_model_name)"
   ]
  },
  {
   "cell_type": "markdown",
   "metadata": {},
   "source": [
    "<div style=\"background:#FFFFAA\">\n",
    "    Train the model (unless you reloaded a trained model) and make predictions. \n",
    "</div>"
   ]
  },
  {
   "cell_type": "code",
   "execution_count": 11,
   "metadata": {},
   "outputs": [
    {
     "name": "stdout",
     "output_type": "stream",
     "text": [
      "PREDICT: dim(X)= [70, 200]\n",
      "PREDICT: dim(y)= [70, 1]\n",
      "PREDICT: dim(X)= [10, 200]\n",
      "PREDICT: dim(y)= [10, 1]\n",
      "PREDICT: dim(X)= [20, 200]\n",
      "PREDICT: dim(y)= [20, 1]\n"
     ]
    }
   ],
   "source": [
    "if not(M.is_trained):\n",
    "    X_train = D.data['X_train']\n",
    "    Y_train = D.data['Y_train']\n",
    "    M.fit(X_train, Y_train)                     \n",
    "\n",
    "Y_hat_train = M.predict(D.data['X_train'])\n",
    "Y_hat_valid = M.predict(D.data['X_valid'])\n",
    "Y_hat_test = M.predict(D.data['X_test'])\n",
    "if(os.path.exists(\"sample_data/perso_test.solution\") and os.path.exists(\"sample_data/perso_valid.solution\")) : \n",
    "    Y_test = D.data['Y_test']\n",
    "    Y_valid = D.data['Y_valid']"
   ]
  },
  {
   "cell_type": "markdown",
   "metadata": {},
   "source": [
    "<div style=\"background:#FFFFAA\">\n",
    "    <b> Save the trained model </b> (will be ready to reload next time around) and save the prediction results. IMPORTANT: if you save the trained model, it will be bundled with your sample code submission. Therefore your model will NOT be retrained on the challenge platform. Remove the pickle from the submission if you want the model to be retrained on the platform.\n",
    "</div>"
   ]
  },
  {
   "cell_type": "code",
   "execution_count": 12,
   "metadata": {
    "scrolled": true
   },
   "outputs": [
    {
     "name": "stdout",
     "output_type": "stream",
     "text": [
      "sample_result_submission/perso_test.predict\r\n",
      "sample_result_submission/perso_train.predict\r\n",
      "sample_result_submission/perso_valid.predict\r\n"
     ]
    }
   ],
   "source": [
    "M.save(trained_model_name)                 \n",
    "result_name = result_dir + data_name\n",
    "from data_io import write\n",
    "write(result_name + '_train.predict', Y_hat_train)\n",
    "write(result_name + '_valid.predict', Y_hat_valid)\n",
    "write(result_name + '_test.predict', Y_hat_test)\n",
    "!ls $result_name*"
   ]
  },
  {
   "cell_type": "code",
   "execution_count": 13,
   "metadata": {},
   "outputs": [
    {
     "name": "stdout",
     "output_type": "stream",
     "text": [
      "70\n"
     ]
    }
   ],
   "source": [
    "print(len(Y_hat_train))"
   ]
  },
  {
   "cell_type": "markdown",
   "metadata": {},
   "source": [
    "<div style=\"background:#FFFFAA\">\n",
    "    <h2>Scoring the results</h2>\n",
    "    <h3>Load the challenge metric</h3>\n",
    "</div>"
   ]
  },
  {
   "cell_type": "markdown",
   "metadata": {},
   "source": [
    "#### Metric : AUC_metric \n",
    "ROC curves are typically used in binary classification to study the output of a classifier"
   ]
  },
  {
   "cell_type": "code",
   "execution_count": 14,
   "metadata": {},
   "outputs": [
    {
     "name": "stdout",
     "output_type": "stream",
     "text": [
      "Using scoring metric: roc_auc_score\n"
     ]
    }
   ],
   "source": [
    "from libscores import get_metric\n",
    "metric_name, scoring_function = get_metric()\n",
    "print('Using scoring metric:', metric_name)"
   ]
  },
  {
   "cell_type": "markdown",
   "metadata": {},
   "source": [
    "<div style=\"background:#FFFFAA\">\n",
    "    <h3> Training performance </h3>\n",
    "    <p>\n",
    "The participants normally posess target values (labels) only for training examples (except for the sample data). We compute with the `example` metric the training score, which should be zero for perfect predictions.\n",
    "        </div>"
   ]
  },
  {
   "cell_type": "code",
   "execution_count": 16,
   "metadata": {
    "scrolled": true
   },
   "outputs": [
    {
     "name": "stdout",
     "output_type": "stream",
     "text": [
      "Training score for the roc_auc_score metric = 1.0000\n",
      "Ideal score for the roc_auc_score metric = 1.0000\n",
      "Test score for the roc_auc_score metric = 0.5152\n",
      "Valid score for the roc_auc_score metric = 0.3333\n"
     ]
    },
    {
     "data": {
      "image/png": "[encoded data removed]",
      "text/plain": [
       "<Figure size 360x216 with 2 Axes>"
      ]
     },
     "metadata": {
      "needs_background": "light"
     },
     "output_type": "display_data"
    },
    {
     "data": {
      "image/png": "[encoded data removed]",
      "text/plain": [
       "<Figure size 432x288 with 1 Axes>"
      ]
     },
     "metadata": {
      "needs_background": "light"
     },
     "output_type": "display_data"
    },
    {
     "data": {
      "image/png": "[encoded data removed]",
      "text/plain": [
       "<Figure size 360x216 with 2 Axes>"
      ]
     },
     "metadata": {
      "needs_background": "light"
     },
     "output_type": "display_data"
    },
    {
     "data": {
      "image/png": "[encoded data removed]",
      "text/plain": [
       "<Figure size 432x288 with 1 Axes>"
      ]
     },
     "metadata": {
      "needs_background": "light"
     },
     "output_type": "display_data"
    },
    {
     "data": {
      "image/png": "[encoded data removed]",
      "text/plain": [
       "<Figure size 360x216 with 2 Axes>"
      ]
     },
     "metadata": {
      "needs_background": "light"
     },
     "output_type": "display_data"
    },
    {
     "data": {
      "image/png": "[encoded data removed]",
      "text/plain": [
       "<Figure size 432x288 with 1 Axes>"
      ]
     },
     "metadata": {
      "needs_background": "light"
     },
     "output_type": "display_data"
    }
   ],
   "source": [
    "from sklearn import metrics\n",
    "from sklearn.metrics import confusion_matrix\n",
    "import seaborn as sn\n",
    "import matplotlib.pyplot as plt\n",
    "import numpy as np\n",
    "import pandas as pd\n",
    "n_classes=2\n",
    "def fpr_tpr(solution, prediction):\n",
    "    for i in range(n_classes):\n",
    "        fpr, tpr, _ = metrics.roc_curve(solution, prediction)\n",
    "        roc_auc = metrics.auc(fpr, tpr)\n",
    "    return (fpr,tpr)\n",
    "def p2c(prediction,threshold=0.5) : \n",
    "    c = []\n",
    "    for ele in prediction : \n",
    "        if(ele>=0.5) : \n",
    "            c.append(1)\n",
    "        else : \n",
    "            c.append(0)\n",
    "    return np.array(c)\n",
    "\n",
    "def plot_cm_matrix(solution,prediction,title) :\n",
    "    prediction = p2c(prediction)\n",
    "    cm = confusion_matrix(solution, prediction)\n",
    "    df_cm = pd.DataFrame(cm, index = [i for i in \"01\"],columns = [i for i in \"01\"])\n",
    "    plt.figure(figsize = (5,3))\n",
    "    sn.heatmap(df_cm, annot=True)\n",
    "    plt.title(title)\n",
    "\n",
    "def plot_ROC(fpr,tpr,title) :\n",
    "    plt.figure()\n",
    "    lw = 2\n",
    "    plt.plot(fpr, tpr, color='darkorange',lw=lw)\n",
    "    plt.plot([0, 1], [0, 1], color='navy', lw=lw, linestyle='--')\n",
    "    plt.xlim([0.0, 1.0])\n",
    "    plt.ylim([0.0, 1.05])\n",
    "    plt.xlabel('False Positive Rate')\n",
    "    plt.ylabel('True Positive Rate')\n",
    "    plt.title(title)\n",
    "    plt.show()\n",
    "\n",
    "if(os.path.exists(\"sample_data/perso_test.solution\") and os.path.exists(\"sample_data/perso_valid.solution\")) : \n",
    "    fpr_train,tpr_train = fpr_tpr(Y_train, Y_hat_train)\n",
    "    fpr_test,tpr_test = fpr_tpr(Y_test, Y_hat_test)\n",
    "    fpr_valid,tpr_valid = fpr_tpr(Y_valid, Y_hat_valid)\n",
    "\n",
    "    print('Training score for the', metric_name, 'metric = %5.4f' % scoring_function(Y_train, Y_hat_train))\n",
    "    print('Ideal score for the', metric_name, 'metric = %5.4f' % scoring_function(Y_train, Y_train))\n",
    "    print('Test score for the', metric_name, 'metric = %5.4f' % scoring_function(Y_test, Y_hat_test))\n",
    "    print('Valid score for the', metric_name, 'metric = %5.4f' % scoring_function(Y_valid, Y_hat_valid))\n",
    "\n",
    "    plot_cm_matrix(Y_train,Y_hat_train,\"Confusion matrix for train data\") \n",
    "    plot_ROC(fpr_train,tpr_train,\"ROC curve for train data\")\n",
    "    plot_cm_matrix(Y_test,Y_hat_test,\"Confusion matrix for test data\") \n",
    "    plot_ROC(fpr_test,tpr_test,\"ROC curve for test data\")\n",
    "    plot_cm_matrix(Y_valid,Y_hat_valid,\"Confusion matrix for valid data\") \n",
    "    plot_ROC(fpr_valid,tpr_valid,\"ROC curve for valid data\")"
   ]
  },
  {
   "cell_type": "markdown",
   "metadata": {},
   "source": [
    "<div style=\"background:#FFFFAA\">\n",
    "    <h3>Cross-validation performance</h3>\n",
    "    <p>\n",
    "The participants do not have access to the labels Y_valid and Y_test to self-assess their validation and test performances. But training performance is not a good prediction of validation or test performance. Using cross-validation, the training data is split into multiple training/test folds, which allows participants to self-assess their model during development. The average CV result and 95% confidence interval is displayed.\n",
    "   </div>"
   ]
  },
  {
   "cell_type": "code",
   "execution_count": 18,
   "metadata": {},
   "outputs": [
    {
     "name": "stdout",
     "output_type": "stream",
     "text": [
      "FIT: dim(X)= [56, 200]\n",
      "FIT: dim(y)= [56, 1]\n",
      "PREDICT: dim(X)= [14, 200]\n",
      "PREDICT: dim(y)= [14, 1]\n",
      "FIT: dim(X)= [56, 200]\n",
      "FIT: dim(y)= [56, 1]\n",
      "PREDICT: dim(X)= [14, 200]\n",
      "PREDICT: dim(y)= [14, 1]\n",
      "FIT: dim(X)= [56, 200]\n",
      "FIT: dim(y)= [56, 1]\n",
      "PREDICT: dim(X)= [14, 200]\n",
      "PREDICT: dim(y)= [14, 1]\n",
      "FIT: dim(X)= [56, 200]\n",
      "FIT: dim(y)= [56, 1]\n",
      "PREDICT: dim(X)= [14, 200]\n",
      "PREDICT: dim(y)= [14, 1]\n",
      "FIT: dim(X)= [56, 200]\n",
      "FIT: dim(y)= [56, 1]\n",
      "PREDICT: dim(X)= [14, 200]\n",
      "PREDICT: dim(y)= [14, 1]\n",
      "\n",
      "CV score (95 perc. CI): 0.53 (+/- 0.34)\n"
     ]
    },
    {
     "name": "stderr",
     "output_type": "stream",
     "text": [
      "/home/min/.local/lib/python3.7/site-packages/sklearn/linear_model/logistic.py:758: ConvergenceWarning: lbfgs failed to converge. Increase the number of iterations.\n",
      "  \"of iterations.\", ConvergenceWarning)\n"
     ]
    }
   ],
   "source": [
    "from sklearn.metrics import make_scorer\n",
    "from sklearn.model_selection import cross_val_score\n",
    "scores = cross_val_score(M, X_train, Y_train, cv=5, scoring=make_scorer(scoring_function))\n",
    "print('\\nCV score (95 perc. CI): %0.2f (+/- %0.2f)' % (scores.mean(), scores.std() * 2))"
   ]
  },
  {
   "cell_type": "markdown",
   "metadata": {},
   "source": [
    "<div style=\"background:#FFFFAA\">\n",
    "<h1> Step 3: Making a submission </h1> \n",
    "\n",
    "<h2> Unit testing </h2> \n",
    "\n",
    "It is <b><span style=\"color:red\">important that you test your submission files before submitting them</span></b>. All you have to do to make a submission is modify the file <code>model.py</code> in the <code>sample_code_submission/</code> directory, then run this test to make sure everything works fine. This is the actual program that will be run on the server to test your submission. \n",
    "<br>\n",
    "Keep the sample code simple.\n",
    "</div>"
   ]
  },
  {
   "cell_type": "code",
   "execution_count": 19,
   "metadata": {
    "scrolled": true
   },
   "outputs": [
    {
     "name": "stdout",
     "output_type": "stream",
     "text": [
      "Using input_dir: /home/min/Téléchargements/challenge1/sample_data\n",
      "Using output_dir: /home/min/Téléchargements/challenge1/sample_result_submission\n",
      "Using program_dir: /home/min/Téléchargements/challenge1/ingestion_program\n",
      "Using submission_dir: /home/min/Téléchargements/challenge1/sample_code_submission\n",
      "\n",
      "========== Ingestion program version 6 ==========\n",
      "\n",
      "************************************************\n",
      "******** Processing dataset Perso ********\n",
      "************************************************\n",
      "========= Reading and converting data ==========\n",
      "Info file found : /home/min/Téléchargements/challenge1/sample_data/perso_public.info\n",
      "========= Reading /home/min/Téléchargements/challenge1/sample_data/perso_feat.type\n",
      "[+] Success in  0.00 sec\n",
      "========= Reading /home/min/Téléchargements/challenge1/sample_data/perso_train.data\n",
      "Replace missing values by 0 (slow, sorry)\n",
      "[+] Success in  0.01 sec\n",
      "========= Reading /home/min/Téléchargements/challenge1/sample_data/perso_train.solution\n",
      "[+] Success in  0.00 sec\n",
      "========= Reading /home/min/Téléchargements/challenge1/sample_data/perso_valid.data\n",
      "Replace missing values by 0 (slow, sorry)\n",
      "[+] Success in  0.00 sec\n",
      "========= Reading /home/min/Téléchargements/challenge1/sample_data/perso_valid.solution\n",
      "[+] Success in  0.00 sec\n",
      "========= Reading /home/min/Téléchargements/challenge1/sample_data/perso_test.data\n",
      "Replace missing values by 0 (slow, sorry)\n",
      "[+] Success in  0.00 sec\n",
      "========= Reading /home/min/Téléchargements/challenge1/sample_data/perso_test.solution\n",
      "[+] Success in  0.00 sec\n",
      "DataManager : perso\n",
      "info:\n",
      "\tusage = Sample dataset perso data\n",
      "\tname = perso\n",
      "\ttask = bi-class.classification\n",
      "\ttarget_type = Numerical\n",
      "\tfeat_type = Numerical\n",
      "\tmetric = bac_metric\n",
      "\ttime_budget = 1200\n",
      "\tfeat_num = 200\n",
      "\ttarget_num = 2\n",
      "\tlabel_num = 2\n",
      "\ttrain_num = 50000\n",
      "\tvalid_num = 9408\n",
      "\ttest_num = 18817\n",
      "\thas_categorical = 0\n",
      "\thas_missing = 0\n",
      "\tis_sparse = 0\n",
      "\tformat = dense\n",
      "data:\n",
      "\tX_train = array(70, 200)\n",
      "\tY_train = array(70,)\n",
      "\tX_valid = array(10, 200)\n",
      "\tY_valid = array(10,)\n",
      "\tX_test = array(20, 200)\n",
      "\tY_test = array(20,)\n",
      "feat_type:\tarray(200,)\n",
      "feat_idx:\tarray(200,)\n",
      "\n",
      "[+] Size of uploaded data  56.00 bytes\n",
      "[+] Cumulated time budget (all tasks so far)  1200.00 sec\n",
      "[+] Time budget for this task 1200.00 sec\n",
      "[+] Remaining time after reading data 1199.99 sec\n",
      "======== Creating model ==========\n",
      "**********************************************************\n",
      "****** Attempting to reload model to avoid training ******\n",
      "**********************************************************\n",
      "Model reloaded from: /home/min/Téléchargements/challenge1/sample_code_submission/perso_model.pickle\n",
      "[+] Model reloaded, no need to train!\n",
      "[+] Prediction success, time spent so far  0.04 sec\n",
      "======== Saving results to: /home/min/Téléchargements/challenge1/sample_result_submission\n",
      "[+] Results saved, time spent so far  0.04 sec\n",
      "[+] End cycle, time left 1199.96 sec\n",
      "[+] Done\n",
      "[+] Overall time spent  1.01 sec ::  Overall time budget 1200.00 sec\n"
     ]
    }
   ],
   "source": [
    "!python $problem_dir/ingestion.py $data_dir $result_dir $problem_dir $model_dir"
   ]
  },
  {
   "cell_type": "markdown",
   "metadata": {},
   "source": [
    "<div style=\"background:#FFFFAA\">\n",
    "Also test the scoring program:\n",
    "    </div>"
   ]
  },
  {
   "cell_type": "code",
   "execution_count": 20,
   "metadata": {},
   "outputs": [
    {
     "name": "stdout",
     "output_type": "stream",
     "text": [
      "======= Set 1 (Perso_test): roc_auc_score(set1_score)=0.570707070707 =======\r\n",
      "======= Set 2 (Perso_train): roc_auc_score(set2_score)=1.000000000000 =======\r\n",
      "======= Set 3 (Perso_valid): roc_auc_score(set3_score)=0.380952380952 =======\r\n"
     ]
    }
   ],
   "source": [
    "scoring_output_dir = '../scoring_output_dir'\n",
    "!python $score_dir/score.py $data_dir $result_dir $scoring_output_dir"
   ]
  },
  {
   "cell_type": "markdown",
   "metadata": {
    "collapsed": true
   },
   "source": [
    "<div style=\"background:#FFFFAA\">\n",
    "    <h1> Preparing the submission </h1>\n",
    "\n",
    "Zip the contents of `sample_code_submission/` (without the directory), or download the challenge public_data and run the command in the previous cell, after replacing sample_data by public_data.\n",
    "Then zip the contents of `sample_result_submission/` (without the directory).\n",
    "<b><span style=\"color:red\">Do NOT zip the data with your submissions</span></b>."
   ]
  },
  {
   "cell_type": "code",
   "execution_count": 22,
   "metadata": {},
   "outputs": [
    {
     "name": "stdout",
     "output_type": "stream",
     "text": [
      "Submit one of these files:\n",
      "../sample_code_submission_19-01-24-19-14.zip\n",
      "../sample_result_submission_19-01-24-19-14.zip\n"
     ]
    }
   ],
   "source": [
    "import datetime \n",
    "from data_io import zipdir\n",
    "the_date = datetime.datetime.now().strftime(\"%y-%m-%d-%H-%M\")\n",
    "sample_code_submission = 'sample_code_submission_' + the_date + '.zip'\n",
    "sample_result_submission = 'sample_result_submission_' + the_date + '.zip'\n",
    "zipdir(sample_code_submission, model_dir)\n",
    "zipdir(sample_result_submission, result_dir)\n",
    "print(\"Submit one of these files:\\n\" + sample_code_submission + \"\\n\" + sample_result_submission)"
   ]
  }
 ],
 "metadata": {
  "kernelspec": {
   "display_name": "Python 3",
   "language": "python",
   "name": "python3"
  },
  "language_info": {
   "codemirror_mode": {
    "name": "ipython",
    "version": 3
   },
   "file_extension": ".py",
   "mimetype": "text/x-python",
   "name": "python",
   "nbconvert_exporter": "python",
   "pygments_lexer": "ipython3",
   "version": "3.7.0"
  }
 },
 "nbformat": 4,
 "nbformat_minor": 1
}
